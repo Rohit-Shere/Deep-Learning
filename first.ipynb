{
 "cells": [
  {
   "cell_type": "code",
   "execution_count": 2,
   "id": "7ecc0070",
   "metadata": {},
   "outputs": [],
   "source": [
    "import tensorflow as tf\n",
    "from tensorflow import keras"
   ]
  },
  {
   "cell_type": "code",
   "execution_count": 3,
   "id": "184d1e37",
   "metadata": {},
   "outputs": [
    {
     "data": {
      "text/plain": [
       "'2.10.0'"
      ]
     },
     "execution_count": 3,
     "metadata": {},
     "output_type": "execute_result"
    }
   ],
   "source": [
    "tf.__version__"
   ]
  },
  {
   "cell_type": "code",
   "execution_count": 4,
   "id": "c9925b87-696d-4573-a9ff-03a5276ea1c3",
   "metadata": {},
   "outputs": [
    {
     "data": {
      "text/plain": [
       "'2.10.0'"
      ]
     },
     "execution_count": 4,
     "metadata": {},
     "output_type": "execute_result"
    }
   ],
   "source": [
    "keras.__version__"
   ]
  },
  {
   "cell_type": "markdown",
   "id": "61147816-3381-496a-bb9e-71bbf567474b",
   "metadata": {},
   "source": [
    "<h1>fashion MINIST classification"
   ]
  },
  {
   "cell_type": "code",
   "execution_count": 5,
   "id": "fed5adfb-addf-4958-99ea-19f90364e72c",
   "metadata": {},
   "outputs": [],
   "source": [
    "fashion_mnist = keras.datasets.fashion_mnist"
   ]
  },
  {
   "cell_type": "code",
   "execution_count": 6,
   "id": "15465d2d-c7b0-4baa-8e70-ff1ee357307e",
   "metadata": {},
   "outputs": [],
   "source": [
    "(X_train_full, y_train_full),(X_test,y_test) = fashion_mnist.load_data()"
   ]
  },
  {
   "cell_type": "code",
   "execution_count": 7,
   "id": "c732a65b-103f-47c9-b6c1-925f5d6f0942",
   "metadata": {},
   "outputs": [
    {
     "data": {
      "text/plain": [
       "(60000, 28, 28)"
      ]
     },
     "execution_count": 7,
     "metadata": {},
     "output_type": "execute_result"
    }
   ],
   "source": [
    "X_train_full.shape"
   ]
  },
  {
   "cell_type": "code",
   "execution_count": 8,
   "id": "20c93f7a-acaa-4f68-9a8e-5b31a89d0bf6",
   "metadata": {},
   "outputs": [
    {
     "data": {
      "text/plain": [
       "dtype('uint8')"
      ]
     },
     "execution_count": 8,
     "metadata": {},
     "output_type": "execute_result"
    }
   ],
   "source": [
    "X_train_full.dtype"
   ]
  },
  {
   "cell_type": "code",
   "execution_count": 9,
   "id": "da1272c5-3eb3-487c-855e-3c25a2899a1d",
   "metadata": {},
   "outputs": [],
   "source": [
    "X_valid, X_train = X_train_full[:5000] / 255.0, X_train_full[5000:] / 255.0\n",
    "y_valid, y_train = y_train_full[:5000], y_train_full[5000:]"
   ]
  },
  {
   "cell_type": "code",
   "execution_count": 10,
   "id": "a83b37b8-a906-4126-a40c-8638e59d568e",
   "metadata": {},
   "outputs": [
    {
     "data": {
      "text/plain": [
       "(5000, 28, 28)"
      ]
     },
     "execution_count": 10,
     "metadata": {},
     "output_type": "execute_result"
    }
   ],
   "source": [
    "X_valid.shape"
   ]
  },
  {
   "cell_type": "code",
   "execution_count": 11,
   "id": "f122eb69-d434-4e3a-9a57-e22f73c26d97",
   "metadata": {},
   "outputs": [
    {
     "data": {
      "text/plain": [
       "(55000, 28, 28)"
      ]
     },
     "execution_count": 11,
     "metadata": {},
     "output_type": "execute_result"
    }
   ],
   "source": [
    "X_train.shape"
   ]
  },
  {
   "cell_type": "code",
   "execution_count": 12,
   "id": "a338477e-501e-444c-b4a7-d1db519c42cd",
   "metadata": {},
   "outputs": [],
   "source": [
    "class_names = [\"T-shirt/top\", \"Trouser\", \"Pullover\", \"Dress\", \"Coat\",\n",
    " \"Sandal\", \"Shirt\", \"Sneaker\", \"Bag\", \"Ankle boot\"]\n"
   ]
  },
  {
   "cell_type": "code",
   "execution_count": 13,
   "id": "fd18f03a-5e3a-48c7-a3df-73c9f191ac79",
   "metadata": {},
   "outputs": [
    {
     "data": {
      "text/plain": [
       "'Coat'"
      ]
     },
     "execution_count": 13,
     "metadata": {},
     "output_type": "execute_result"
    }
   ],
   "source": [
    "class_names[y_train[0]]"
   ]
  },
  {
   "cell_type": "code",
   "execution_count": 14,
   "id": "0bc331ae-1078-4c50-b496-04123791954a",
   "metadata": {},
   "outputs": [
    {
     "data": {
      "text/plain": [
       "4"
      ]
     },
     "execution_count": 14,
     "metadata": {},
     "output_type": "execute_result"
    }
   ],
   "source": [
    "y_train[0]"
   ]
  },
  {
   "cell_type": "code",
   "execution_count": 15,
   "id": "acde97c3-479f-4eed-992f-610ad53bfb61",
   "metadata": {},
   "outputs": [],
   "source": [
    "model= keras.models.Sequential()\n",
    "model.add(keras.layers.Flatten(input_shape=[28,28]))\n",
    "model.add(keras.layers.Dense(300,activation='relu'))\n",
    "model.add(keras.layers.Dense(100,activation='relu'))\n",
    "model.add(keras.layers.Dense(10, activation='softmax'))"
   ]
  },
  {
   "cell_type": "code",
   "execution_count": 16,
   "id": "7a95df89-d16d-4b57-9d9f-aebdb6dbe1c7",
   "metadata": {},
   "outputs": [
    {
     "name": "stdout",
     "output_type": "stream",
     "text": [
      "Model: \"sequential\"\n",
      "_________________________________________________________________\n",
      " Layer (type)                Output Shape              Param #   \n",
      "=================================================================\n",
      " flatten (Flatten)           (None, 784)               0         \n",
      "                                                                 \n",
      " dense (Dense)               (None, 300)               235500    \n",
      "                                                                 \n",
      " dense_1 (Dense)             (None, 100)               30100     \n",
      "                                                                 \n",
      " dense_2 (Dense)             (None, 10)                1010      \n",
      "                                                                 \n",
      "=================================================================\n",
      "Total params: 266,610\n",
      "Trainable params: 266,610\n",
      "Non-trainable params: 0\n",
      "_________________________________________________________________\n"
     ]
    }
   ],
   "source": [
    "model.summary()"
   ]
  },
  {
   "cell_type": "code",
   "execution_count": 17,
   "id": "2d587c15-2a11-49d4-994b-2ac5a5da9476",
   "metadata": {},
   "outputs": [],
   "source": [
    "hidden1= model.layers[1]"
   ]
  },
  {
   "cell_type": "code",
   "execution_count": 18,
   "id": "6fc319eb-5ba1-4f35-8f2a-e31d89e6cf97",
   "metadata": {},
   "outputs": [
    {
     "data": {
      "text/plain": [
       "'dense'"
      ]
     },
     "execution_count": 18,
     "metadata": {},
     "output_type": "execute_result"
    }
   ],
   "source": [
    "hidden1.name"
   ]
  },
  {
   "cell_type": "code",
   "execution_count": 19,
   "id": "f18e18d1-be53-4d53-b2df-0a3d6ff2cfc3",
   "metadata": {},
   "outputs": [],
   "source": [
    "weights, biases = hidden1.get_weights()"
   ]
  },
  {
   "cell_type": "code",
   "execution_count": 20,
   "id": "f3e3d2fa-7006-4607-9545-c3c9ec20bb12",
   "metadata": {},
   "outputs": [
    {
     "data": {
      "text/plain": [
       "array([[-0.07281022, -0.05261558,  0.05946052, ...,  0.0312027 ,\n",
       "        -0.00350589,  0.04621403],\n",
       "       [-0.00280091, -0.0609528 ,  0.00646193, ...,  0.04230794,\n",
       "         0.05064827, -0.00564495],\n",
       "       [ 0.04143   ,  0.05956997,  0.02593289, ..., -0.00329578,\n",
       "         0.07347013, -0.0539312 ],\n",
       "       ...,\n",
       "       [ 0.02270225,  0.05652787, -0.02634006, ..., -0.03411399,\n",
       "         0.03004594,  0.06404354],\n",
       "       [-0.04211852,  0.00905482,  0.0630136 , ...,  0.0193914 ,\n",
       "        -0.03031254, -0.0670413 ],\n",
       "       [-0.00799558, -0.06794167, -0.04112832, ...,  0.03691843,\n",
       "         0.01348733,  0.07342137]], dtype=float32)"
      ]
     },
     "execution_count": 20,
     "metadata": {},
     "output_type": "execute_result"
    }
   ],
   "source": [
    "weights"
   ]
  },
  {
   "cell_type": "code",
   "execution_count": 21,
   "id": "cf90eaa9-7682-4964-b066-54815400d59c",
   "metadata": {},
   "outputs": [],
   "source": [
    "model.compile(loss= \"sparse_categorical_crossentropy\", \n",
    "              optimizer=\"sgd\",\n",
    "              metrics=[\"accuracy\"])"
   ]
  },
  {
   "cell_type": "code",
   "execution_count": 22,
   "id": "f6aea870-f345-4e52-8339-ace0adb0f1e3",
   "metadata": {},
   "outputs": [
    {
     "name": "stdout",
     "output_type": "stream",
     "text": [
      "Epoch 1/30\n",
      "1719/1719 [==============================] - 7s 4ms/step - loss: 0.7186 - accuracy: 0.7635 - val_loss: 0.5033 - val_accuracy: 0.8314\n",
      "Epoch 2/30\n",
      "1719/1719 [==============================] - 6s 3ms/step - loss: 0.4869 - accuracy: 0.8309 - val_loss: 0.4453 - val_accuracy: 0.8452\n",
      "Epoch 3/30\n",
      "1719/1719 [==============================] - 6s 4ms/step - loss: 0.4423 - accuracy: 0.8461 - val_loss: 0.4339 - val_accuracy: 0.8494\n",
      "Epoch 4/30\n",
      "1719/1719 [==============================] - 6s 3ms/step - loss: 0.4169 - accuracy: 0.8538 - val_loss: 0.4168 - val_accuracy: 0.8506\n",
      "Epoch 5/30\n",
      "1719/1719 [==============================] - 6s 3ms/step - loss: 0.3953 - accuracy: 0.8610 - val_loss: 0.3893 - val_accuracy: 0.8654\n",
      "Epoch 6/30\n",
      "1719/1719 [==============================] - 6s 4ms/step - loss: 0.3803 - accuracy: 0.8669 - val_loss: 0.3909 - val_accuracy: 0.8600\n",
      "Epoch 7/30\n",
      "1719/1719 [==============================] - 6s 3ms/step - loss: 0.3687 - accuracy: 0.8705 - val_loss: 0.3740 - val_accuracy: 0.8668\n",
      "Epoch 8/30\n",
      "1719/1719 [==============================] - 6s 4ms/step - loss: 0.3574 - accuracy: 0.8731 - val_loss: 0.3603 - val_accuracy: 0.8734\n",
      "Epoch 9/30\n",
      "1719/1719 [==============================] - 6s 3ms/step - loss: 0.3467 - accuracy: 0.8774 - val_loss: 0.3788 - val_accuracy: 0.8682\n",
      "Epoch 10/30\n",
      "1719/1719 [==============================] - 6s 3ms/step - loss: 0.3375 - accuracy: 0.8812 - val_loss: 0.3497 - val_accuracy: 0.8792\n",
      "Epoch 11/30\n",
      "1719/1719 [==============================] - 6s 4ms/step - loss: 0.3307 - accuracy: 0.8819 - val_loss: 0.3524 - val_accuracy: 0.8798\n",
      "Epoch 12/30\n",
      "1719/1719 [==============================] - 6s 4ms/step - loss: 0.3220 - accuracy: 0.8854 - val_loss: 0.3441 - val_accuracy: 0.8800\n",
      "Epoch 13/30\n",
      "1719/1719 [==============================] - 6s 4ms/step - loss: 0.3152 - accuracy: 0.8870 - val_loss: 0.3423 - val_accuracy: 0.8770\n",
      "Epoch 14/30\n",
      "1719/1719 [==============================] - 6s 4ms/step - loss: 0.3079 - accuracy: 0.8902 - val_loss: 0.3221 - val_accuracy: 0.8884\n",
      "Epoch 15/30\n",
      "1719/1719 [==============================] - 6s 4ms/step - loss: 0.3015 - accuracy: 0.8917 - val_loss: 0.3218 - val_accuracy: 0.8880\n",
      "Epoch 16/30\n",
      "1719/1719 [==============================] - 7s 4ms/step - loss: 0.2955 - accuracy: 0.8941 - val_loss: 0.3256 - val_accuracy: 0.8844\n",
      "Epoch 17/30\n",
      "1719/1719 [==============================] - 6s 3ms/step - loss: 0.2898 - accuracy: 0.8955 - val_loss: 0.3213 - val_accuracy: 0.8846\n",
      "Epoch 18/30\n",
      "1719/1719 [==============================] - 7s 4ms/step - loss: 0.2839 - accuracy: 0.8982 - val_loss: 0.3246 - val_accuracy: 0.8850\n",
      "Epoch 19/30\n",
      "1719/1719 [==============================] - 6s 4ms/step - loss: 0.2786 - accuracy: 0.8995 - val_loss: 0.3276 - val_accuracy: 0.8816\n",
      "Epoch 20/30\n",
      "1719/1719 [==============================] - 6s 3ms/step - loss: 0.2730 - accuracy: 0.9027 - val_loss: 0.3244 - val_accuracy: 0.8836\n",
      "Epoch 21/30\n",
      "1719/1719 [==============================] - 7s 4ms/step - loss: 0.2681 - accuracy: 0.9026 - val_loss: 0.3124 - val_accuracy: 0.8880\n",
      "Epoch 22/30\n",
      "1719/1719 [==============================] - 6s 4ms/step - loss: 0.2630 - accuracy: 0.9049 - val_loss: 0.3021 - val_accuracy: 0.8964\n",
      "Epoch 23/30\n",
      "1719/1719 [==============================] - 7s 4ms/step - loss: 0.2592 - accuracy: 0.9065 - val_loss: 0.3077 - val_accuracy: 0.8908\n",
      "Epoch 24/30\n",
      "1719/1719 [==============================] - 7s 4ms/step - loss: 0.2548 - accuracy: 0.9082 - val_loss: 0.3138 - val_accuracy: 0.8854\n",
      "Epoch 25/30\n",
      "1719/1719 [==============================] - 6s 4ms/step - loss: 0.2502 - accuracy: 0.9102 - val_loss: 0.3167 - val_accuracy: 0.8884\n",
      "Epoch 26/30\n",
      "1719/1719 [==============================] - 7s 4ms/step - loss: 0.2461 - accuracy: 0.9117 - val_loss: 0.3198 - val_accuracy: 0.8872\n",
      "Epoch 27/30\n",
      "1719/1719 [==============================] - 6s 4ms/step - loss: 0.2415 - accuracy: 0.9129 - val_loss: 0.3026 - val_accuracy: 0.8910\n",
      "Epoch 28/30\n",
      "1719/1719 [==============================] - 7s 4ms/step - loss: 0.2375 - accuracy: 0.9156 - val_loss: 0.3022 - val_accuracy: 0.8892\n",
      "Epoch 29/30\n",
      "1719/1719 [==============================] - 6s 4ms/step - loss: 0.2337 - accuracy: 0.9158 - val_loss: 0.3289 - val_accuracy: 0.8816\n",
      "Epoch 30/30\n",
      "1719/1719 [==============================] - 6s 4ms/step - loss: 0.2303 - accuracy: 0.9183 - val_loss: 0.3248 - val_accuracy: 0.8836\n"
     ]
    }
   ],
   "source": [
    "history = model.fit(X_train,y_train,epochs=30,\n",
    "                    validation_data=(X_valid,y_valid))"
   ]
  },
  {
   "cell_type": "code",
   "execution_count": 23,
   "id": "613fb35d-6a69-42df-804f-73323e66e0de",
   "metadata": {},
   "outputs": [],
   "source": [
    "import pandas as pd\n",
    "import matplotlib.pyplot as plt"
   ]
  },
  {
   "cell_type": "code",
   "execution_count": null,
   "id": "63899c7d-239b-4543-9a0b-4b68635f7704",
   "metadata": {},
   "outputs": [],
   "source": [
    "pd.DataFrame(history.history).plot(figsize=(8,5))\n",
    "plt.grid(True)\n",
    "plt.gca().set_ylim(0.1)#set the vertixl range to [0,1]\n",
    "plt.show()"
   ]
  },
  {
   "cell_type": "code",
   "execution_count": null,
   "id": "f035111b-669e-43ef-bf74-f0a90c9c6055",
   "metadata": {},
   "outputs": [],
   "source": []
  }
 ],
 "metadata": {
  "kernelspec": {
   "display_name": "Python 3 (ipykernel)",
   "language": "python",
   "name": "python3"
  },
  "language_info": {
   "codemirror_mode": {
    "name": "ipython",
    "version": 3
   },
   "file_extension": ".py",
   "mimetype": "text/x-python",
   "name": "python",
   "nbconvert_exporter": "python",
   "pygments_lexer": "ipython3",
   "version": "3.9.18"
  }
 },
 "nbformat": 4,
 "nbformat_minor": 5
}
